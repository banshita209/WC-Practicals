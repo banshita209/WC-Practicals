{
  "nbformat": 4,
  "nbformat_minor": 0,
  "metadata": {
    "colab": {
      "name": "Wc_practical5.ipynb",
      "provenance": [],
      "authorship_tag": "ABX9TyNrmxXr87U6TKoUa0bREjPg",
      "include_colab_link": true
    },
    "kernelspec": {
      "name": "python3",
      "display_name": "Python 3"
    },
    "language_info": {
      "name": "python"
    }
  },
  "cells": [
    {
      "cell_type": "markdown",
      "metadata": {
        "id": "view-in-github",
        "colab_type": "text"
      },
      "source": [
        "<a href=\"https://colab.research.google.com/github/banshita209/WC-Practicals/blob/master/Wc_practical5.ipynb\" target=\"_parent\"><img src=\"https://colab.research.google.com/assets/colab-badge.svg\" alt=\"Open In Colab\"/></a>"
      ]
    },
    {
      "cell_type": "markdown",
      "metadata": {
        "id": "ufrdpDVBvXhz"
      },
      "source": [
        "#Practical 5\n",
        "\n",
        "###Write a program to solve the below problem. Take a necessary input for the program. If a signal to interference ratio of 15 dB is required for satisfactory forward channel performance of a cellular system, what is the frequency reuse factor and cluster size that should be used for maximum capacity if the path loss exponent is (a) n = 4 , (b) n = 3? Assume that there are 6 co-channels cells in the first tier and all of them are at the same distance from the mobile. Use suitable approximations."
      ]
    },
    {
      "cell_type": "code",
      "metadata": {
        "colab": {
          "base_uri": "https://localhost:8080/"
        },
        "id": "ZYy-hAR9vUCB",
        "outputId": "a95a368f-ebac-4e60-a36a-5cac0b57fd98"
      },
      "source": [
        "import math\n",
        "co_channel_reuse_ratio = 4.583\n",
        "N1 = 7\n",
        "N2 = 12\n",
        "n1 = 4\n",
        "n2 = 3\n",
        "print('co-channel reuse ratio D/R = 4.583')\n",
        "print('For n1=4')\n",
        "print('signal-to-noise interference ratio: ')\n",
        "ratio = (1/6)*((co_channel_reuse_ratio)**n1)\n",
        "print(ratio)\n",
        "Square_root = math.sqrt(3*N1)\n",
        "signal_to_noise_interference_ratio = Square_root*n1\n",
        "print(signal_to_noise_interference_ratio,'dB')\n",
        "\n",
        "print('For n2=3')\n",
        "print('signal-to-noise interference ratio: ')\n",
        "print(ratio)\n",
        "Square_root = math.sqrt(3*N2)\n",
        "signal_to_noise_interference_ratio = Square_root*n2\n",
        "print(signal_to_noise_interference_ratio,'dB')"
      ],
      "execution_count": 1,
      "outputs": [
        {
          "output_type": "stream",
          "name": "stdout",
          "text": [
            "co-channel reuse ratio D/R = 4.583\n",
            "For n1=4\n",
            "signal-to-noise interference ratio: \n",
            "73.52722552072018\n",
            "18.33030277982336 dB\n",
            "For n2=3\n",
            "signal-to-noise interference ratio: \n",
            "73.52722552072018\n",
            "18.0 dB\n"
          ]
        }
      ]
    }
  ]
}