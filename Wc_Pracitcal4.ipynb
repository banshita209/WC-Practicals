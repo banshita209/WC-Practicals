{
  "nbformat": 4,
  "nbformat_minor": 0,
  "metadata": {
    "colab": {
      "name": "Wc_Pracitcal4.ipynb",
      "provenance": [],
      "authorship_tag": "ABX9TyN4vdjU8u3LzhT5f61txImT",
      "include_colab_link": true
    },
    "kernelspec": {
      "name": "python3",
      "display_name": "Python 3"
    },
    "language_info": {
      "name": "python"
    }
  },
  "cells": [
    {
      "cell_type": "markdown",
      "metadata": {
        "id": "view-in-github",
        "colab_type": "text"
      },
      "source": [
        "<a href=\"https://colab.research.google.com/github/banshita209/WC-Practicals/blob/master/Wc_Pracitcal4.ipynb\" target=\"_parent\"><img src=\"https://colab.research.google.com/assets/colab-badge.svg\" alt=\"Open In Colab\"/></a>"
      ]
    },
    {
      "cell_type": "markdown",
      "metadata": {
        "id": "Qwb5A7OstVUk"
      },
      "source": [
        "#Practical 4\n",
        "\n",
        "###Write a program to solve the below problem. Take a necessary input for the program. If a total of 33 MHz of bandwidth is allocated to a particular FDD cellular telephone system which uses two 25 kHz simplex channels to provide full duplex voice and control channels, compute the number of channels available per cell if a system uses (a) 4-cell reuse, (b) 7-cell reuse (c) 12-cell reuse. If 1 MHz of the allocated spectrum is dedicated to control channels, determine an equitable distribution of control channels and voice channels in each cell for each of the three systems."
      ]
    },
    {
      "cell_type": "code",
      "metadata": {
        "colab": {
          "base_uri": "https://localhost:8080/"
        },
        "id": "msKS5wsCtKxt",
        "outputId": "79b18576-38b2-4bec-f094-09d65cd4114b"
      },
      "source": [
        "Total_Bandwidth = 33\n",
        "Channel_Bandwidth = 25\n",
        "\n",
        "Total_channel_Bandwidth = Channel_Bandwidth*2\n",
        "print('Total channel Bandwidth = ', Total_channel_Bandwidth ,'kHz/duplex channels')\n",
        "\n",
        "Total_Available_Channels = 33000/Total_channel_Bandwidth\n",
        "print('Total channel Bandwidth = ', Total_Available_Channels ,'kHz/duplex channels')\n",
        "\n",
        "n= int(input('Enter total number of inputs :' ))\n",
        "for i in range(n):\n",
        "    N = int(input('Enter Number :'))\n",
        "    print(N,'cell reuse')\n",
        "    channels_available = Total_Available_Channels/N\n",
        "\n",
        "    print('Total number of channels available per cell= ',channels_available,'channels')\n",
        "    control_channels=1000/Total_channel_Bandwidth\n",
        "    print(control_channels,'control channels out of 660 channels available')"
      ],
      "execution_count": 1,
      "outputs": [
        {
          "output_type": "stream",
          "name": "stdout",
          "text": [
            "Total channel Bandwidth =  50 kHz/duplex channels\n",
            "Total channel Bandwidth =  660.0 kHz/duplex channels\n",
            "Enter total number of inputs :3\n",
            "Enter Number :4\n",
            "4 cell reuse\n",
            "Total number of channels available per cell=  165.0 channels\n",
            "20.0 control channels out of 660 channels available\n",
            "Enter Number :7\n",
            "7 cell reuse\n",
            "Total number of channels available per cell=  94.28571428571429 channels\n",
            "20.0 control channels out of 660 channels available\n",
            "Enter Number :12\n",
            "12 cell reuse\n",
            "Total number of channels available per cell=  55.0 channels\n",
            "20.0 control channels out of 660 channels available\n"
          ]
        }
      ]
    }
  ]
}